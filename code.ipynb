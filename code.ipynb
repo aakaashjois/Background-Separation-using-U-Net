{
 "cells": [
  {
   "cell_type": "code",
   "execution_count": null,
   "metadata": {},
   "outputs": [],
   "source": [
    "from sklearn.model_selection import train_test_split\n",
    "from os import listdir, getcwd\n",
    "from os.path import join\n",
    "import matplotlib.pyplot as plt\n",
    "import numpy as np\n",
    "from lib import unet\n",
    "from lib import generator"
   ]
  },
  {
   "cell_type": "code",
   "execution_count": null,
   "metadata": {
    "collapsed": true
   },
   "outputs": [],
   "source": [
    "DATA_DIR = join(getcwd(), 'data')\n",
    "TRAIN_DIR = join(DATA_DIR, 'train')\n",
    "MASK_DIR = join(DATA_DIR, 'train_masks')\n",
    "TRAIN_IMAGE_LIST = listdir(TRAIN_DIR)\n",
    "MASK_IMAGE_LIST = listdir(MASK_DIR)\n",
    "IMG_WIDTH = 320"
   ]
  },
  {
   "cell_type": "code",
   "execution_count": null,
   "metadata": {
    "collapsed": true,
    "inputHidden": false,
    "outputHidden": false
   },
   "outputs": [],
   "source": [
    "train_images, test_images, train_masks, test_masks = train_test_split(TRAIN_IMAGE_LIST, \n",
    "                                                                      MASK_IMAGE_LIST, \n",
    "                                                                      test_size=0.10000)\n",
    "train_images, validation_images, train_masks, validation_masks = train_test_split(train_images,\n",
    "                                                                                  train_masks,\n",
    "                                                                                  test_size=0.11111)"
   ]
  },
  {
   "cell_type": "code",
   "execution_count": null,
   "metadata": {
    "collapsed": true
   },
   "outputs": [],
   "source": [
    "train_generator = generator.image_generator(TRAIN_DIR, \n",
    "                                            MASK_DIR, \n",
    "                                            train_images, \n",
    "                                            train_masks, \n",
    "                                            batch_size = 10, \n",
    "                                            img_dim = [int((1280 / 1918) * IMG_WIDTH), IMG_WIDTH], \n",
    "                                            num_colors = 8)"
   ]
  },
  {
   "cell_type": "code",
   "execution_count": null,
   "metadata": {
    "inputHidden": false,
    "outputHidden": false
   },
   "outputs": [],
   "source": [
    "img, mask = next(train_generator)\n",
    "plot = 1\n",
    "for i in range(img.shape[0]):\n",
    "    plt.subplot(img.shape[0], 3, plot)\n",
    "    plt.imshow(img[i])\n",
    "    plot += 1\n",
    "    plt.subplot(img.shape[0], 3, plot)\n",
    "    plt.imshow(mask[i])\n",
    "    plot += 1\n",
    "    plt.subplot(img.shape[0], 3, plot)\n",
    "    plt.imshow(img[i])\n",
    "    plt.imshow(mask[i], alpha=0.5)\n",
    "    plot += 1\n",
    "plt.show()"
   ]
  },
  {
   "cell_type": "code",
   "execution_count": null,
   "metadata": {},
   "outputs": [],
   "source": [
    "model = unet.get_unet_model([IMG_WIDTH, IMG_WIDTH, 3], 1e-4)"
   ]
  },
  {
   "cell_type": "code",
   "execution_count": null,
   "metadata": {},
   "outputs": [],
   "source": [
    "model.summary()"
   ]
  },
  {
   "cell_type": "code",
   "execution_count": null,
   "metadata": {},
   "outputs": [],
   "source": [
    "model.fit_generator(train_generator, steps_per_epoch=100, epochs=1)"
   ]
  }
 ],
 "metadata": {
  "kernel_info": {
   "name": "python3"
  },
  "kernelspec": {
   "display_name": "Python 3",
   "language": "python",
   "name": "python3"
  },
  "language_info": {
   "codemirror_mode": {
    "name": "ipython",
    "version": 3
   },
   "file_extension": ".py",
   "mimetype": "text/x-python",
   "name": "python",
   "nbconvert_exporter": "python",
   "pygments_lexer": "ipython3",
   "version": "3.6.2"
  },
  "nteract": {
   "version": "0.2.0"
  }
 },
 "nbformat": 4,
 "nbformat_minor": 2
}
