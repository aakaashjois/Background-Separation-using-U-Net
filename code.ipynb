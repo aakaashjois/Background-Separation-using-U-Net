{
 "cells": [
  {
   "cell_type": "code",
   "execution_count": 1,
   "metadata": {},
   "outputs": [
    {
     "name": "stderr",
     "output_type": "stream",
     "text": [
      "Using TensorFlow backend.\n"
     ]
    }
   ],
   "source": [
    "from sklearn.model_selection import train_test_split\n",
    "from os import listdir, getcwd\n",
    "from os.path import join\n",
    "from keras.preprocessing.image import img_to_array, load_img\n",
    "import matplotlib.pyplot as plt\n",
    "import numpy as np\n",
    "\n",
    "plt.rcParams['figure.figsize'] = (20, 20)"
   ]
  },
  {
   "cell_type": "code",
   "execution_count": 2,
   "metadata": {
    "collapsed": true
   },
   "outputs": [],
   "source": [
    "from lib import augmentations\n",
    "from lib import unet"
   ]
  },
  {
   "cell_type": "code",
   "execution_count": 3,
   "metadata": {
    "collapsed": true
   },
   "outputs": [],
   "source": [
    "DATA_DIR = join(getcwd(), 'data')\n",
    "TRAIN_DIR = join(DATA_DIR, 'train')\n",
    "MASK_DIR = join(DATA_DIR, 'train_masks')\n",
    "TRAIN_IMAGE_LIST = listdir(TRAIN_DIR)\n",
    "MASK_IMAGE_LIST = listdir(MASK_DIR)\n",
    "ASPECT_RATIO = 1280 / 1918"
   ]
  },
  {
   "cell_type": "code",
   "execution_count": 4,
   "metadata": {
    "collapsed": true,
    "inputHidden": false,
    "outputHidden": false
   },
   "outputs": [],
   "source": [
    "train_images, test_images, train_masks, test_masks = train_test_split(TRAIN_IMAGE_LIST, \n",
    "                                                                      MASK_IMAGE_LIST, \n",
    "                                                                      test_size=0.2)\n",
    "train_images, validation_images, train_masks, validation_masks = train_test_split(train_images,\n",
    "                                                                                  train_masks,\n",
    "                                                                                  test_size=0.25)"
   ]
  },
  {
   "cell_type": "code",
   "execution_count": 5,
   "metadata": {
    "collapsed": true
   },
   "outputs": [],
   "source": [
    "def square_it(img, mask):\n",
    "    \n",
    "    if img.shape[2] != img.shape[1]:\n",
    "        \n",
    "        diff1 = int(np.ceil((img.shape[2]-img.shape[1])/2))\n",
    "        diff2 = int(np.floor((img.shape[2]-img.shape[1])/2))\n",
    "\n",
    "        zero_img1 = np.zeros((img.shape[0],diff1,img.shape[2],img.shape[3]))\n",
    "        zero_img2 = np.zeros((img.shape[0],diff2,img.shape[2],img.shape[3]))\n",
    "\n",
    "        img_tmp = np.concatenate((zero_img1,img),axis=1)\n",
    "        new_img = np.concatenate((img_tmp, zero_img2),axis=1)\n",
    "\n",
    "        mask_tmp = np.concatenate((zero_img1,mask),axis=1)\n",
    "        new_mask = np.concatenate((mask_tmp, zero_img2),axis=1)\n",
    "    \n",
    "        return new_img, new_mask\n",
    "    \n",
    "    else:\n",
    "        \n",
    "        return img, mask"
   ]
  },
  {
   "cell_type": "code",
   "execution_count": 6,
   "metadata": {
    "collapsed": true
   },
   "outputs": [],
   "source": [
    "def image_generator_function(images_dir, masks_dir, images, masks, batch_size, img_width = None, num_colors = 256):\n",
    "    \n",
    "    '''\n",
    "    images: Array of image names\n",
    "    masks: Array of mask names\n",
    "    batch_size: The number of images to be consider in one batch.\n",
    "    num_colors = target number of colors for kmeans algorithm. (Default = 256)\n",
    "    img_width: The width to which the original image is resized while maintaining aspect ratio. Does not resize if no parameters passed.\n",
    "    '''\n",
    "    \n",
    "    img_dim = [int(ASPECT_RATIO * img_width), img_width] if img_width is not None else None\n",
    "    \n",
    "    while True:\n",
    "        random_indices = np.random.choice(len(images), batch_size)\n",
    "        i = []\n",
    "        m = []\n",
    "        \n",
    "        for index in random_indices:\n",
    "            img = load_img(join(images_dir, images[index]))\n",
    "            img_array = img_to_array(img) / 255\n",
    "            i.append(img_array)\n",
    "            mask = load_img(join(masks_dir, masks[index]))\n",
    "            mask_array = img_to_array(mask) / 255\n",
    "            m.append(mask_array)\n",
    "            \n",
    "        yield square_it(np.array(i), np.array(m))"
   ]
  },
  {
   "cell_type": "code",
   "execution_count": null,
   "metadata": {
    "collapsed": true
   },
   "outputs": [],
   "source": [
    "train_generator = image_generator_function(TRAIN_DIR, MASK_DIR, train_images, train_masks, 5, 500, 16)\n",
    "img_tmp, mask_tmp = next(train_generator)\n",
    "img, mask = augmentations.random_augmentation(img_tmp, mask_tmp)\n",
    "img_c = []\n",
    "for i in img:\n",
    "    img_c.append(augmentations.color_quantize(i, 16))\n",
    "img = np.array(img_c)"
   ]
  },
  {
   "cell_type": "code",
   "execution_count": null,
   "metadata": {
    "inputHidden": false,
    "outputHidden": false
   },
   "outputs": [],
   "source": [
    "plot = 1\n",
    "for i in range(img.shape[0]):\n",
    "    plt.subplot(img.shape[0], 3, plot)\n",
    "    plt.imshow(img[i])\n",
    "    plot += 1\n",
    "    plt.subplot(img.shape[0], 3, plot)\n",
    "    plt.imshow(mask[i])\n",
    "    plot += 1\n",
    "    plt.subplot(img.shape[0], 3, plot)\n",
    "    plt.imshow(img[i])\n",
    "    plt.imshow(mask[i], alpha=0.5)\n",
    "    plot += 1\n",
    "plt.show()"
   ]
  }
 ],
 "metadata": {
  "kernel_info": {
   "name": "python3"
  },
  "kernelspec": {
   "display_name": "Python 3",
   "language": "python",
   "name": "python3"
  },
  "language_info": {
   "codemirror_mode": {
    "name": "ipython",
    "version": 3
   },
   "file_extension": ".py",
   "mimetype": "text/x-python",
   "name": "python",
   "nbconvert_exporter": "python",
   "pygments_lexer": "ipython3",
   "version": "3.6.1"
  },
  "nteract": {
   "version": "0.2.0"
  }
 },
 "nbformat": 4,
 "nbformat_minor": 2
}
